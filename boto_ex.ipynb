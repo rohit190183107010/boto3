{
 "cells": [
  {
   "cell_type": "code",
   "execution_count": 1,
   "metadata": {},
   "outputs": [
    {
     "name": "stdout",
     "output_type": "stream",
     "text": [
      "Collecting boto3Note: you may need to restart the kernel to use updated packages.\n",
      "\n",
      "  Downloading boto3-1.26.114-py3-none-any.whl (135 kB)\n",
      "     ---------------------------------------- 0.0/135.6 kB ? eta -:--:--\n",
      "     -------------------------------------  133.1/135.6 kB 7.7 MB/s eta 0:00:01\n",
      "     -------------------------------------- 135.6/135.6 kB 2.0 MB/s eta 0:00:00\n",
      "Collecting botocore<1.30.0,>=1.29.114\n",
      "  Downloading botocore-1.29.114-py3-none-any.whl (10.6 MB)\n",
      "     ---------------------------------------- 0.0/10.6 MB ? eta -:--:--\n",
      "      --------------------------------------- 0.2/10.6 MB 6.3 MB/s eta 0:00:02\n",
      "     - -------------------------------------- 0.4/10.6 MB 5.0 MB/s eta 0:00:03\n",
      "     -- ------------------------------------- 0.7/10.6 MB 4.4 MB/s eta 0:00:03\n",
      "     ---- ----------------------------------- 1.1/10.6 MB 4.7 MB/s eta 0:00:03\n",
      "     ------ --------------------------------- 1.7/10.6 MB 4.9 MB/s eta 0:00:02\n",
      "     -------- ------------------------------- 2.1/10.6 MB 5.2 MB/s eta 0:00:02\n",
      "     -------- ------------------------------- 2.2/10.6 MB 4.6 MB/s eta 0:00:02\n",
      "     --------- ------------------------------ 2.6/10.6 MB 4.7 MB/s eta 0:00:02\n",
      "     ---------- ----------------------------- 2.9/10.6 MB 4.7 MB/s eta 0:00:02\n",
      "     ----------- ---------------------------- 3.1/10.6 MB 4.6 MB/s eta 0:00:02\n",
      "     ------------- -------------------------- 3.5/10.6 MB 4.9 MB/s eta 0:00:02\n",
      "     -------------- ------------------------- 3.8/10.6 MB 4.8 MB/s eta 0:00:02\n",
      "     --------------- ------------------------ 4.2/10.6 MB 4.9 MB/s eta 0:00:02\n",
      "     ----------------- ---------------------- 4.5/10.6 MB 4.9 MB/s eta 0:00:02\n",
      "     ------------------ --------------------- 5.0/10.6 MB 5.1 MB/s eta 0:00:02\n",
      "     -------------------- ------------------- 5.4/10.6 MB 5.2 MB/s eta 0:00:02\n",
      "     ---------------------- ----------------- 6.0/10.6 MB 5.2 MB/s eta 0:00:01\n",
      "     ------------------------ --------------- 6.4/10.6 MB 5.2 MB/s eta 0:00:01\n",
      "     ------------------------ --------------- 6.5/10.6 MB 5.2 MB/s eta 0:00:01\n",
      "     ------------------------ --------------- 6.5/10.6 MB 5.2 MB/s eta 0:00:01\n",
      "     ------------------------ --------------- 6.5/10.6 MB 5.2 MB/s eta 0:00:01\n",
      "     ------------------------ --------------- 6.5/10.6 MB 4.1 MB/s eta 0:00:02\n",
      "     ------------------------ --------------- 6.5/10.6 MB 4.1 MB/s eta 0:00:02\n",
      "     ------------------------ --------------- 6.5/10.6 MB 3.7 MB/s eta 0:00:02\n",
      "     ------------------------ --------------- 6.5/10.6 MB 3.7 MB/s eta 0:00:02\n",
      "     ------------------------ --------------- 6.5/10.6 MB 3.4 MB/s eta 0:00:02\n",
      "     ------------------------ --------------- 6.5/10.6 MB 3.4 MB/s eta 0:00:02\n",
      "     ------------------------ --------------- 6.5/10.6 MB 3.2 MB/s eta 0:00:02\n",
      "     ------------------------ --------------- 6.5/10.6 MB 3.2 MB/s eta 0:00:02\n",
      "     ------------------------ --------------- 6.5/10.6 MB 2.9 MB/s eta 0:00:02\n",
      "     -------------------------- ------------- 7.0/10.6 MB 3.1 MB/s eta 0:00:02\n",
      "     ----------------------------- ---------- 7.8/10.6 MB 3.3 MB/s eta 0:00:01\n",
      "     ------------------------------ --------- 8.2/10.6 MB 3.4 MB/s eta 0:00:01\n",
      "     -------------------------------- ------- 8.6/10.6 MB 3.4 MB/s eta 0:00:01\n",
      "     --------------------------------- ------ 8.8/10.6 MB 3.4 MB/s eta 0:00:01\n",
      "     ---------------------------------- ----- 9.1/10.6 MB 3.5 MB/s eta 0:00:01\n",
      "     ---------------------------------- ----- 9.1/10.6 MB 3.5 MB/s eta 0:00:01\n",
      "     ---------------------------------- ----- 9.1/10.6 MB 3.3 MB/s eta 0:00:01\n",
      "     ---------------------------------- ----- 9.1/10.6 MB 3.3 MB/s eta 0:00:01\n",
      "     ---------------------------------- ----- 9.1/10.6 MB 3.1 MB/s eta 0:00:01\n",
      "     ------------------------------------ --- 9.8/10.6 MB 3.2 MB/s eta 0:00:01\n",
      "     -------------------------------------- - 10.1/10.6 MB 3.2 MB/s eta 0:00:01\n",
      "     ---------------------------------------  10.4/10.6 MB 3.2 MB/s eta 0:00:01\n",
      "     ---------------------------------------  10.6/10.6 MB 3.3 MB/s eta 0:00:01\n",
      "     ---------------------------------------  10.6/10.6 MB 3.3 MB/s eta 0:00:01\n",
      "     ---------------------------------------  10.6/10.6 MB 3.3 MB/s eta 0:00:01\n",
      "     ---------------------------------------  10.6/10.6 MB 3.3 MB/s eta 0:00:01\n",
      "     ---------------------------------------  10.6/10.6 MB 3.3 MB/s eta 0:00:01\n",
      "     ---------------------------------------  10.6/10.6 MB 3.3 MB/s eta 0:00:01\n",
      "     ---------------------------------------  10.6/10.6 MB 3.3 MB/s eta 0:00:01\n",
      "     ---------------------------------------  10.6/10.6 MB 3.3 MB/s eta 0:00:01\n",
      "     ---------------------------------------  10.6/10.6 MB 3.3 MB/s eta 0:00:01\n",
      "     ---------------------------------------  10.6/10.6 MB 3.3 MB/s eta 0:00:01\n",
      "     ---------------------------------------  10.6/10.6 MB 3.3 MB/s eta 0:00:01\n",
      "     ---------------------------------------  10.6/10.6 MB 3.3 MB/s eta 0:00:01\n",
      "     ---------------------------------------  10.6/10.6 MB 3.3 MB/s eta 0:00:01\n",
      "     ---------------------------------------  10.6/10.6 MB 3.3 MB/s eta 0:00:01\n",
      "     ---------------------------------------  10.6/10.6 MB 3.3 MB/s eta 0:00:01\n",
      "     ---------------------------------------  10.6/10.6 MB 3.3 MB/s eta 0:00:01\n",
      "     ---------------------------------------  10.6/10.6 MB 3.3 MB/s eta 0:00:01\n",
      "     ---------------------------------------  10.6/10.6 MB 3.3 MB/s eta 0:00:01\n",
      "     ---------------------------------------  10.6/10.6 MB 3.3 MB/s eta 0:00:01\n",
      "     ---------------------------------------  10.6/10.6 MB 3.3 MB/s eta 0:00:01\n",
      "     ---------------------------------------  10.6/10.6 MB 3.3 MB/s eta 0:00:01\n",
      "     ---------------------------------------  10.6/10.6 MB 3.3 MB/s eta 0:00:01\n",
      "     ---------------------------------------  10.6/10.6 MB 3.3 MB/s eta 0:00:01\n",
      "     ---------------------------------------  10.6/10.6 MB 3.3 MB/s eta 0:00:01\n",
      "     ---------------------------------------  10.6/10.6 MB 3.3 MB/s eta 0:00:01\n",
      "     ---------------------------------------  10.6/10.6 MB 3.3 MB/s eta 0:00:01\n",
      "     ---------------------------------------  10.6/10.6 MB 3.3 MB/s eta 0:00:01\n",
      "     ---------------------------------------  10.6/10.6 MB 3.3 MB/s eta 0:00:01\n",
      "     ---------------------------------------  10.6/10.6 MB 3.3 MB/s eta 0:00:01\n",
      "     ---------------------------------------  10.6/10.6 MB 3.3 MB/s eta 0:00:01\n",
      "     ---------------------------------------  10.6/10.6 MB 3.3 MB/s eta 0:00:01\n",
      "     ---------------------------------------  10.6/10.6 MB 3.3 MB/s eta 0:00:01\n",
      "     ---------------------------------------  10.6/10.6 MB 3.3 MB/s eta 0:00:01\n",
      "     ---------------------------------------  10.6/10.6 MB 3.3 MB/s eta 0:00:01\n",
      "     ---------------------------------------  10.6/10.6 MB 3.3 MB/s eta 0:00:01\n",
      "     ---------------------------------------- 10.6/10.6 MB 1.9 MB/s eta 0:00:00\n",
      "Requirement already satisfied: jmespath<2.0.0,>=0.7.1 in c:\\users\\rohit\\appdata\\local\\programs\\python\\python311\\lib\\site-packages (from boto3) (1.0.1)\n",
      "Requirement already satisfied: s3transfer<0.7.0,>=0.6.0 in c:\\users\\rohit\\appdata\\local\\programs\\python\\python311\\lib\\site-packages (from boto3) (0.6.0)\n",
      "Requirement already satisfied: python-dateutil<3.0.0,>=2.1 in c:\\users\\rohit\\appdata\\roaming\\python\\python311\\site-packages (from botocore<1.30.0,>=1.29.114->boto3) (2.8.2)\n",
      "Requirement already satisfied: urllib3<1.27,>=1.25.4 in c:\\users\\rohit\\appdata\\local\\programs\\python\\python311\\lib\\site-packages (from botocore<1.30.0,>=1.29.114->boto3) (1.26.13)\n",
      "Requirement already satisfied: six>=1.5 in c:\\users\\rohit\\appdata\\roaming\\python\\python311\\site-packages (from python-dateutil<3.0.0,>=2.1->botocore<1.30.0,>=1.29.114->boto3) (1.16.0)\n",
      "Installing collected packages: botocore, boto3\n",
      "  Attempting uninstall: botocore\n",
      "    Found existing installation: botocore 1.29.45\n",
      "    Uninstalling botocore-1.29.45:\n",
      "      Successfully uninstalled botocore-1.29.45\n",
      "Successfully installed boto3-1.26.114 botocore-1.29.114\n"
     ]
    },
    {
     "name": "stderr",
     "output_type": "stream",
     "text": [
      "ERROR: pip's dependency resolver does not currently take into account all the packages that are installed. This behaviour is the source of the following dependency conflicts.\n",
      "awscli 1.27.45 requires botocore==1.29.45, but you have botocore 1.29.114 which is incompatible.\n"
     ]
    }
   ],
   "source": [
    "pip install boto3"
   ]
  },
  {
   "cell_type": "code",
   "execution_count": 22,
   "metadata": {},
   "outputs": [],
   "source": [
    "import boto3\n",
    "\n",
    "# Let's use Amazon S3\n",
    "s3 = boto3.resource('s3')\n",
    "\n",
    "# Print out bucket names\n",
    "for bucket in s3.buckets.all():\n",
    "    print(bucket.name)\n"
   ]
  },
  {
   "cell_type": "code",
   "execution_count": 10,
   "metadata": {},
   "outputs": [
    {
     "name": "stdout",
     "output_type": "stream",
     "text": [
      "Existing buckets:\n",
      "  boto-pr\n"
     ]
    }
   ],
   "source": [
    "# Retrieve the list of existing buckets\n",
    "s3 = boto3.client('s3')\n",
    "response = s3.list_buckets()\n",
    "\n",
    "# Output the bucket names\n",
    "print('Existing buckets:')\n",
    "for bucket in response['Buckets']:\n",
    "    print(f'  {bucket[\"Name\"]}')"
   ]
  },
  {
   "cell_type": "code",
   "execution_count": 11,
   "metadata": {},
   "outputs": [],
   "source": [
    "import logging\n",
    "import boto3\n",
    "from botocore.exceptions import ClientError\n",
    "import os\n",
    "\n",
    "\n",
    "def upload_file(file_name, bucket, object_name=None):\n",
    "    \"\"\"Upload a file to an S3 bucket\n",
    "\n",
    "    :param file_name: File to upload\n",
    "    :param bucket: Bucket to upload to\n",
    "    :param object_name: S3 object name. If not specified then file_name is used\n",
    "    :return: True if file was uploaded, else False\n",
    "    \"\"\"\n",
    "\n",
    "    # If S3 object_name was not specified, use file_name\n",
    "    if object_name is None:\n",
    "        object_name = os.path.basename(file_name)\n",
    "\n",
    "    # Upload the file\n",
    "    s3_client = boto3.client('s3')\n",
    "    try:\n",
    "        response = s3_client.upload_file(file_name, bucket, object_name)\n",
    "    except ClientError as e:\n",
    "        logging.error(e)\n",
    "        return False\n",
    "    return True"
   ]
  },
  {
   "cell_type": "code",
   "execution_count": 14,
   "metadata": {},
   "outputs": [],
   "source": [
    "s3 = boto3.client('s3')\n",
    "with open(\"plain.txt\", \"rb\") as f:\n",
    "    s3.upload_fileobj(f, \"boto-pr\", \"OBJECT_NAME\")"
   ]
  },
  {
   "cell_type": "code",
   "execution_count": 15,
   "metadata": {},
   "outputs": [],
   "source": [
    "s3.upload_file(\n",
    "    'plain.txt', 'boto-pr', 'OBJECT_NAME',\n",
    "    ExtraArgs={'Metadata': {'mykey': 'myvalue'}}\n",
    ")"
   ]
  },
  {
   "cell_type": "code",
   "execution_count": 17,
   "metadata": {},
   "outputs": [],
   "source": [
    "import boto3\n",
    "\n",
    "s3 = boto3.client('s3')\n",
    "s3.download_file('boto-pr', 'OBJECT_NAME', 'FILE_NAME')"
   ]
  },
  {
   "cell_type": "code",
   "execution_count": 19,
   "metadata": {},
   "outputs": [],
   "source": [
    "s3 = boto3.client('s3')\n",
    "with open('FILE_NAME', 'wb') as f:\n",
    "    s3.download_fileobj('boto-pr', 'OBJECT_NAME', f)"
   ]
  },
  {
   "cell_type": "code",
   "execution_count": 21,
   "metadata": {},
   "outputs": [
    {
     "ename": "ClientError",
     "evalue": "An error occurred (NoSuchWebsiteConfiguration) when calling the GetBucketWebsite operation: The specified bucket does not have a website configuration",
     "output_type": "error",
     "traceback": [
      "\u001b[1;31m---------------------------------------------------------------------------\u001b[0m",
      "\u001b[1;31mClientError\u001b[0m                               Traceback (most recent call last)",
      "Cell \u001b[1;32mIn[21], line 5\u001b[0m\n\u001b[0;32m      3\u001b[0m \u001b[39m# Retrieve the website configuration\u001b[39;00m\n\u001b[0;32m      4\u001b[0m s3 \u001b[39m=\u001b[39m boto3\u001b[39m.\u001b[39mclient(\u001b[39m'\u001b[39m\u001b[39ms3\u001b[39m\u001b[39m'\u001b[39m)\n\u001b[1;32m----> 5\u001b[0m result \u001b[39m=\u001b[39m s3\u001b[39m.\u001b[39;49mget_bucket_website(Bucket\u001b[39m=\u001b[39;49m\u001b[39m'\u001b[39;49m\u001b[39mboto-pr\u001b[39;49m\u001b[39m'\u001b[39;49m)\n",
      "File \u001b[1;32mc:\\Users\\rohit\\AppData\\Local\\Programs\\Python\\Python311\\Lib\\site-packages\\botocore\\client.py:530\u001b[0m, in \u001b[0;36mClientCreator._create_api_method.<locals>._api_call\u001b[1;34m(self, *args, **kwargs)\u001b[0m\n\u001b[0;32m    526\u001b[0m     \u001b[39mraise\u001b[39;00m \u001b[39mTypeError\u001b[39;00m(\n\u001b[0;32m    527\u001b[0m         \u001b[39mf\u001b[39m\u001b[39m\"\u001b[39m\u001b[39m{\u001b[39;00mpy_operation_name\u001b[39m}\u001b[39;00m\u001b[39m() only accepts keyword arguments.\u001b[39m\u001b[39m\"\u001b[39m\n\u001b[0;32m    528\u001b[0m     )\n\u001b[0;32m    529\u001b[0m \u001b[39m# The \"self\" in this scope is referring to the BaseClient.\u001b[39;00m\n\u001b[1;32m--> 530\u001b[0m \u001b[39mreturn\u001b[39;00m \u001b[39mself\u001b[39;49m\u001b[39m.\u001b[39;49m_make_api_call(operation_name, kwargs)\n",
      "File \u001b[1;32mc:\\Users\\rohit\\AppData\\Local\\Programs\\Python\\Python311\\Lib\\site-packages\\botocore\\client.py:960\u001b[0m, in \u001b[0;36mBaseClient._make_api_call\u001b[1;34m(self, operation_name, api_params)\u001b[0m\n\u001b[0;32m    958\u001b[0m     error_code \u001b[39m=\u001b[39m parsed_response\u001b[39m.\u001b[39mget(\u001b[39m\"\u001b[39m\u001b[39mError\u001b[39m\u001b[39m\"\u001b[39m, {})\u001b[39m.\u001b[39mget(\u001b[39m\"\u001b[39m\u001b[39mCode\u001b[39m\u001b[39m\"\u001b[39m)\n\u001b[0;32m    959\u001b[0m     error_class \u001b[39m=\u001b[39m \u001b[39mself\u001b[39m\u001b[39m.\u001b[39mexceptions\u001b[39m.\u001b[39mfrom_code(error_code)\n\u001b[1;32m--> 960\u001b[0m     \u001b[39mraise\u001b[39;00m error_class(parsed_response, operation_name)\n\u001b[0;32m    961\u001b[0m \u001b[39melse\u001b[39;00m:\n\u001b[0;32m    962\u001b[0m     \u001b[39mreturn\u001b[39;00m parsed_response\n",
      "\u001b[1;31mClientError\u001b[0m: An error occurred (NoSuchWebsiteConfiguration) when calling the GetBucketWebsite operation: The specified bucket does not have a website configuration"
     ]
    }
   ],
   "source": [
    "import boto3\n",
    "\n",
    "# Retrieve the website configuration\n",
    "s3 = boto3.client('s3')\n",
    "result = s3.get_bucket_website(Bucket='boto-pr')"
   ]
  }
 ],
 "metadata": {
  "kernelspec": {
   "display_name": "Python 3",
   "language": "python",
   "name": "python3"
  },
  "language_info": {
   "codemirror_mode": {
    "name": "ipython",
    "version": 3
   },
   "file_extension": ".py",
   "mimetype": "text/x-python",
   "name": "python",
   "nbconvert_exporter": "python",
   "pygments_lexer": "ipython3",
   "version": "3.11.1"
  },
  "orig_nbformat": 4
 },
 "nbformat": 4,
 "nbformat_minor": 2
}
